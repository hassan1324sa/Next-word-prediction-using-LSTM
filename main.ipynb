{
 "cells": [
  {
   "cell_type": "code",
   "execution_count": 1,
   "metadata": {},
   "outputs": [],
   "source": [
    "import torch\n",
    "import torch.nn as nn\n",
    "from torch.utils.data import Dataset, DataLoader\n",
    "from collections import Counter\n",
    "import re\n"
   ]
  },
  {
   "cell_type": "code",
   "execution_count": 3,
   "metadata": {},
   "outputs": [],
   "source": [
    "with open(\"data.txt\", \"r\") as file:\n",
    "    text = file.read()\n",
    "\n",
    "\n",
    "text = re.sub(r'[^a-zA-Z\\s]', '', text).lower() \n",
    "words = text.split()\n"
   ]
  },
  {
   "cell_type": "code",
   "execution_count": 4,
   "metadata": {},
   "outputs": [],
   "source": [
    "\n",
    "word_counts = Counter(words)\n",
    "vocab = {word: idx for idx, (word, _) in enumerate(word_counts.items(), start=1)}\n",
    "vocab[\"<unk>\"] = 0  \n",
    "idx_to_word = {idx: word for word, idx in vocab.items()}\n"
   ]
  },
  {
   "cell_type": "code",
   "execution_count": 5,
   "metadata": {},
   "outputs": [],
   "source": [
    "\n",
    "sequences = [vocab.get(word, vocab[\"<unk>\"]) for word in words]\n",
    "\n"
   ]
  },
  {
   "cell_type": "code",
   "execution_count": 6,
   "metadata": {},
   "outputs": [],
   "source": [
    "sequence_length = 5\n",
    "data = []\n",
    "for i in range(len(sequences) - sequence_length):\n",
    "    input_seq = sequences[i:i + sequence_length]\n",
    "    target = sequences[i + sequence_length]\n",
    "    data.append((input_seq, target))\n"
   ]
  },
  {
   "cell_type": "code",
   "execution_count": 7,
   "metadata": {},
   "outputs": [],
   "source": [
    "class TextDataset(Dataset):\n",
    "    def __init__(self, data):\n",
    "        self.data = data\n",
    "\n",
    "    def __len__(self):\n",
    "        return len(self.data)\n",
    "\n",
    "    def __getitem__(self, idx):\n",
    "        input_seq, target = self.data[idx]\n",
    "        return torch.tensor(input_seq, dtype=torch.long), torch.tensor(target, dtype=torch.long)\n"
   ]
  },
  {
   "cell_type": "code",
   "execution_count": 8,
   "metadata": {},
   "outputs": [],
   "source": [
    "\n",
    "dataset = TextDataset(data)\n",
    "dataloader = DataLoader(dataset, batch_size=64, shuffle=True)\n"
   ]
  },
  {
   "cell_type": "code",
   "execution_count": 9,
   "metadata": {},
   "outputs": [],
   "source": [
    "class LSTMModel(nn.Module):\n",
    "    def __init__(self, vocab_size, embed_size, hidden_size, num_layers):\n",
    "        super(LSTMModel, self).__init__()\n",
    "        self.embedding = nn.Embedding(vocab_size, embed_size)\n",
    "        self.lstm = nn.LSTM(embed_size, hidden_size, num_layers, batch_first=True)\n",
    "        self.fc = nn.Linear(hidden_size, vocab_size)\n",
    "\n",
    "    def forward(self, x):\n",
    "        embeds = self.embedding(x)\n",
    "        out, _ = self.lstm(embeds)\n",
    "        out = self.fc(out[:, -1, :])\n",
    "        return out\n"
   ]
  },
  {
   "cell_type": "code",
   "execution_count": 10,
   "metadata": {},
   "outputs": [],
   "source": [
    "vocab_size = len(vocab)\n",
    "embed_size = 128\n",
    "hidden_size = 256\n",
    "num_layers = 2\n",
    "\n",
    "model = LSTMModel(vocab_size, embed_size, hidden_size, num_layers).to(\"cuda\")\n",
    "criterion = nn.CrossEntropyLoss()\n",
    "optimizer = torch.optim.Adam(model.parameters(), lr=0.001)\n"
   ]
  },
  {
   "cell_type": "code",
   "execution_count": 11,
   "metadata": {},
   "outputs": [
    {
     "name": "stdout",
     "output_type": "stream",
     "text": [
      "Epoch [1/20], Loss: 6.1191\n",
      "Epoch [2/20], Loss: 5.9015\n",
      "Epoch [3/20], Loss: 4.7091\n",
      "Epoch [4/20], Loss: 5.3222\n",
      "Epoch [5/20], Loss: 4.2424\n",
      "Epoch [6/20], Loss: 3.6023\n",
      "Epoch [7/20], Loss: 3.0741\n",
      "Epoch [8/20], Loss: 1.9362\n",
      "Epoch [9/20], Loss: 1.7768\n",
      "Epoch [10/20], Loss: 1.7467\n",
      "Epoch [11/20], Loss: 1.2791\n",
      "Epoch [12/20], Loss: 0.8541\n",
      "Epoch [13/20], Loss: 0.6664\n",
      "Epoch [14/20], Loss: 0.4661\n",
      "Epoch [15/20], Loss: 0.3827\n",
      "Epoch [16/20], Loss: 0.6593\n",
      "Epoch [17/20], Loss: 0.3038\n",
      "Epoch [18/20], Loss: 0.3661\n",
      "Epoch [19/20], Loss: 0.2209\n",
      "Epoch [20/20], Loss: 0.4908\n"
     ]
    }
   ],
   "source": [
    "epochs = 20\n",
    "model.train()\n",
    "for epoch in range(epochs):\n",
    "    for inputs, targets in dataloader:\n",
    "        inputs, targets = inputs.to(\"cuda\"), targets.to(\"cuda\")\n",
    "        outputs = model(inputs)\n",
    "        loss = criterion(outputs, targets)\n",
    "        optimizer.zero_grad()\n",
    "        loss.backward()\n",
    "        optimizer.step()\n",
    "    print(f\"Epoch [{epoch+1}/{epochs}], Loss: {loss.item():.4f}\")\n"
   ]
  },
  {
   "cell_type": "code",
   "execution_count": 12,
   "metadata": {},
   "outputs": [],
   "source": [
    "torch.save(model,\"model.pt\")\n"
   ]
  },
  {
   "cell_type": "code",
   "execution_count": 15,
   "metadata": {},
   "outputs": [
    {
     "name": "stdout",
     "output_type": "stream",
     "text": [
      "Input: 'You must confine yourself to' | Predicted Next Word: 'the'\n"
     ]
    }
   ],
   "source": [
    "def predict_next_word(model, input_text, vocab, idx_to_word, sequence_length):\n",
    "    model.eval()\n",
    "    tokens = [vocab.get(word, vocab[\"<unk>\"]) for word in input_text.split()]\n",
    "\n",
    "    if len(tokens) < sequence_length:\n",
    "        tokens = [0] * (sequence_length - len(tokens)) + tokens\n",
    "    else:\n",
    "        tokens = tokens[-sequence_length:]\n",
    "\n",
    "    input_tensor = torch.tensor(tokens, dtype=torch.long).unsqueeze(0).to(\"cuda\")  \n",
    "    output = model(input_tensor)\n",
    "    predicted_idx = torch.argmax(output, dim=1).item()\n",
    "    return idx_to_word[predicted_idx]\n",
    "\n",
    "\n",
    "input_text = \"You must confine yourself to\"\n",
    "predicted_word = predict_next_word(model, input_text, vocab, idx_to_word, sequence_length)\n",
    "print(f\"Input: '{input_text}' | Predicted Next Word: '{predicted_word}'\")\n"
   ]
  },
  {
   "cell_type": "code",
   "execution_count": null,
   "metadata": {},
   "outputs": [],
   "source": []
  }
 ],
 "metadata": {
  "kernelspec": {
   "display_name": "computerVision",
   "language": "python",
   "name": "python3"
  },
  "language_info": {
   "codemirror_mode": {
    "name": "ipython",
    "version": 3
   },
   "file_extension": ".py",
   "mimetype": "text/x-python",
   "name": "python",
   "nbconvert_exporter": "python",
   "pygments_lexer": "ipython3",
   "version": "3.9.19"
  }
 },
 "nbformat": 4,
 "nbformat_minor": 2
}
